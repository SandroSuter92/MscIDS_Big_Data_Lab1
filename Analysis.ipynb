{
 "cells": [
  {
   "cell_type": "markdown",
   "id": "73fb1248",
   "metadata": {},
   "source": [
    "![New York Times](./images/New_York_Times.png)"
   ]
  },
  {
   "cell_type": "markdown",
   "id": "6c3e14e3",
   "metadata": {},
   "source": [
    "# New York Times - Archive Research 2020\n",
    "\n",
    "In the following Jupyter Notebook, an analysis of the article archive of the internationally highly regarded New York Times is to be carried out as part of the **Big Data Lab I** module of the Master's programme \"Applied Information and Data Science\"."
   ]
  },
  {
   "cell_type": "markdown",
   "id": "ea948f51",
   "metadata": {},
   "source": [
    "## Goal and Objectives\n",
    "\n",
    "The aim of this analysis is to apply and deepening the understanding of the material studied in class. For this purpose, the article archive of the New York Times from the year 2020 is analysed. A special focus is placed on articles with the theme of health. This is because the corona pandemic has broken out in 2020 and is therefore expected to have a strong influence in this category.\n",
    "\n",
    "In order to take a closer look at the topic described above, the following questions should be answered by means of targeted queries in the *MongoDB*:\n",
    "\n",
    "* Did the pandemic have an impact on the number of articles written in the New York Times?\n",
    "* Who are the New York Times' top writers? and which section do they write?\n",
    "* To what extent did the COVID-19 pandemic dominate the news coverage?\n",
    "* How have the articles in the 'Health' section changed as a result of the COVID-19 pandemic?"
   ]
  },
  {
   "cell_type": "markdown",
   "id": "036abd69",
   "metadata": {},
   "source": [
    "## Procedure and Structure\n",
    "\n",
    "To analyse the New York Times article archive, the data must first be downloaded via the newspaper's official API. Afterwards, this data is saved in a *MongoDB* and processed using the Python package *Pymongo*. The entire project is carried out within a *Jupyter Notebook* and converted into a PDF after the completion. "
   ]
  },
  {
   "cell_type": "markdown",
   "id": "78d9e528",
   "metadata": {},
   "source": [
    "## Requirements & Configurations\n",
    "\n",
    "The first step is to load the required packages into the *Jupyter Notebook* and check the versions of the packages, make the *Pandas* configurations, deposit the database credenials and connect to the database. This is done in the following code cells:"
   ]
  },
  {
   "cell_type": "code",
   "execution_count": 4,
   "id": "463e9f30",
   "metadata": {},
   "outputs": [],
   "source": [
    "import pymongo\n",
    "from pprint import pprint\n",
    "import pandas as pd\n",
    "import requests\n",
    "import json\n",
    "from bson.objectid import ObjectId\n",
    "import time\n",
    "import matplotlib.pyplot as plt\n"
   ]
  },
  {
   "cell_type": "code",
   "execution_count": 5,
   "id": "ff71346a",
   "metadata": {},
   "outputs": [
    {
     "name": "stdout",
     "output_type": "stream",
     "text": [
      "dnspython                         2.1.0\n",
      "pandas                            1.3.4\n",
      "pymongo                           3.12.1\n"
     ]
    },
    {
     "name": "stderr",
     "output_type": "stream",
     "text": [
      "WARNING: You are using pip version 21.1.2; however, version 21.3.1 is available.\n",
      "You should consider upgrading via the 'C:\\Users\\saend\\Desktop\\bigdatalab1\\venv\\Scripts\\python.exe -m pip install --upgrade pip' command.\n"
     ]
    }
   ],
   "source": [
    "! pip3 list | findstr \"pymongo dnspython pandas\""
   ]
  },
  {
   "cell_type": "code",
   "execution_count": 6,
   "id": "27cfd434",
   "metadata": {},
   "outputs": [],
   "source": [
    "# pandas configuration\n",
    "pd.set_option('precision', 2)\n",
    "pd.set_option('max_rows', 30)\n",
    "pd.set_option('max_colwidth', 50)\n",
    "# pd.describe_option('max_rows')\n",
    "# pd.describe_option('precision')\n",
    "# pd.describe_option('max_colwidth')"
   ]
  },
  {
   "cell_type": "code",
   "execution_count": 7,
   "id": "9ab6352f",
   "metadata": {},
   "outputs": [],
   "source": [
    "#Here your own credentials must be set as variables\n",
    "url = URL_API\n",
    "CNX_STR = CNX_STR_MONGODB\n",
    "DB_NAME = DB_NAME\n",
    "COLL_NAME = COLL_NAME_MONGODB"
   ]
  },
  {
   "cell_type": "code",
   "execution_count": 8,
   "id": "f188028e",
   "metadata": {},
   "outputs": [],
   "source": [
    "# Setup connection\n",
    "client = pymongo.MongoClient(CNX_STR)\n",
    "db = client[DB_NAME]\n",
    "archive = db[COLL_NAME]"
   ]
  },
  {
   "cell_type": "markdown",
   "id": "cda39504",
   "metadata": {},
   "source": [
    "## ELT\n",
    "\n",
    "Due to the orientation of the project and the goal of obtaining the most comprehensive data pool possible with as little loss of information as possible, an *ELT* (Extract, Load, Transform) process was modelled and implemented instead of a classic *ETL* (Extract, Transform, Load) process. This can be seen schematically in the following graphic:\n",
    "\n",
    "![ELT](./images/ELT.png)\n",
    "\n",
    "\n",
    "**Extract**\n",
    "\n",
    "First, the data is downloaded using the official [Archive API](https://developer.nytimes.com/docs/archive-product/1/overview) of the New York Times and cached on the local device in the project folder. It should be noted that the API only allows the download of all articles per month. For this reason, a loop is used to download each month individually and store it temporarily in a json file.\n",
    "\n",
    "**Load**\n",
    "\n",
    "Afterwards, the upload to the database is done with the Python package [Pymongo](https://pymongo.readthedocs.io/en/stable/). In this step, we deliberately refrain from transforming the data beforehand in order to keep any loss of information as small as possible.\n",
    "\n",
    "**Transform**\n",
    "\n",
    "As soon as the data is stored in the database, the actual analysis can begin. The existing data is transformed with specific queries so that the desired analysis can be carried out with just a few Python steps. The goal is to first make some general queries about the year 2020 and then gradually go into more specific detail about the \"health\" section and thus answer the questions mentioned above.\n"
   ]
  },
  {
   "cell_type": "markdown",
   "id": "aaf6d76a",
   "metadata": {},
   "source": [
    "### Remove all existing documents\n",
    "\n",
    "Before the actual ELT process can begin, the database is cleaned again to show that each phase of the ELT process is working:\n"
   ]
  },
  {
   "cell_type": "code",
   "execution_count": 6,
   "id": "d3e0928f",
   "metadata": {},
   "outputs": [
    {
     "data": {
      "text/plain": [
       "0"
      ]
     },
     "execution_count": 6,
     "metadata": {},
     "output_type": "execute_result"
    }
   ],
   "source": [
    "archive.drop()\n",
    "archive.count_documents({})"
   ]
  },
  {
   "cell_type": "markdown",
   "id": "cdd7757e",
   "metadata": {},
   "source": [
    "### Extract data\n",
    "\n",
    "Once the database is empty, the extract phase can be started and the data for every month in the Year 2020 is downloaded using for-loop and stored in the local project folder."
   ]
  },
  {
   "cell_type": "code",
   "execution_count": 7,
   "id": "cf18e9bb",
   "metadata": {},
   "outputs": [],
   "source": [
    "# Get the data and save it in a dictionary\n",
    "\n",
    "months_numbers = [1,2,3,4,5,6,7,8,9,10,11,12]\n",
    "\n",
    "files = {}\n",
    "\n",
    "for month in months_numbers:\n",
    "    url = \"https://api.nytimes.com/svc/archive/v1/2020/{}.json?api-key=UYIkHYNaot9ZVJSWpkiRrOX7cVGbW8iv\".format(month)\n",
    "    response = requests.get(url, verify=False)\n",
    "    data = json.loads(response.text)\n",
    "    files[\"archive_2020_{}\".format(month)] = data[\"response\"]\n",
    "    time.sleep(3)"
   ]
  },
  {
   "cell_type": "code",
   "execution_count": 8,
   "id": "c3ebf821",
   "metadata": {},
   "outputs": [
    {
     "name": "stdout",
     "output_type": "stream",
     "text": [
      "archive_2020_1.json\n",
      "Successfully saved archive_2020_1.json\n",
      "archive_2020_2.json\n",
      "Successfully saved archive_2020_2.json\n",
      "archive_2020_3.json\n",
      "Successfully saved archive_2020_3.json\n",
      "archive_2020_4.json\n",
      "Successfully saved archive_2020_4.json\n",
      "archive_2020_5.json\n",
      "Successfully saved archive_2020_5.json\n",
      "archive_2020_6.json\n",
      "Successfully saved archive_2020_6.json\n",
      "archive_2020_7.json\n",
      "Successfully saved archive_2020_7.json\n",
      "archive_2020_8.json\n",
      "Successfully saved archive_2020_8.json\n",
      "archive_2020_9.json\n",
      "Successfully saved archive_2020_9.json\n",
      "archive_2020_10.json\n",
      "Successfully saved archive_2020_10.json\n",
      "archive_2020_11.json\n",
      "Successfully saved archive_2020_11.json\n",
      "archive_2020_12.json\n",
      "Successfully saved archive_2020_12.json\n"
     ]
    }
   ],
   "source": [
    "# Save the Files in the dictionary as .json locally\n",
    "\n",
    "archive_2020_1 = files[\"archive_2020_1\"][\"docs\"]\n",
    "archive_2020_2 = files[\"archive_2020_2\"][\"docs\"]\n",
    "archive_2020_3 = files[\"archive_2020_3\"][\"docs\"]\n",
    "archive_2020_4 = files[\"archive_2020_4\"][\"docs\"]\n",
    "archive_2020_5 = files[\"archive_2020_5\"][\"docs\"]\n",
    "archive_2020_6 = files[\"archive_2020_6\"][\"docs\"]\n",
    "archive_2020_7 = files[\"archive_2020_7\"][\"docs\"]\n",
    "archive_2020_8 = files[\"archive_2020_8\"][\"docs\"]\n",
    "archive_2020_9 = files[\"archive_2020_9\"][\"docs\"]\n",
    "archive_2020_10 = files[\"archive_2020_10\"][\"docs\"]\n",
    "archive_2020_11 = files[\"archive_2020_11\"][\"docs\"]\n",
    "archive_2020_12 = files[\"archive_2020_12\"][\"docs\"]\n",
    "\n",
    "files_monthly = [\"archive_2020_1\",\n",
    "                 \"archive_2020_2\",\n",
    "                 \"archive_2020_3\",\n",
    "                 \"archive_2020_4\",\n",
    "                 \"archive_2020_5\",\n",
    "                 \"archive_2020_6\",\n",
    "                 \"archive_2020_7\",\n",
    "                 \"archive_2020_8\",\n",
    "                 \"archive_2020_9\",\n",
    "                 \"archive_2020_10\",\n",
    "                 \"archive_2020_11\",\n",
    "                 \"archive_2020_12\"]\n",
    "\n",
    "files_m = [archive_2020_1,\n",
    "           archive_2020_2,\n",
    "           archive_2020_3,\n",
    "           archive_2020_4,\n",
    "           archive_2020_5,\n",
    "           archive_2020_6,\n",
    "           archive_2020_7,\n",
    "           archive_2020_8,\n",
    "           archive_2020_9,\n",
    "           archive_2020_10,\n",
    "           archive_2020_11,\n",
    "           archive_2020_12]\n",
    "\n",
    "for i in range(0,12):\n",
    "    filename = files_monthly[i] + \".json\"\n",
    "    print(filename)\n",
    "    with open(filename, \"w\", encoding='utf-8') as f:\n",
    "        json.dump(files_m[i], f)\n",
    "    print(\"Successfully saved {}\".format(filename))"
   ]
  },
  {
   "cell_type": "markdown",
   "id": "ca229696",
   "metadata": {},
   "source": [
    "### Load data\n",
    "\n",
    "After the data has been downloaded, it can now be loaded into the database using for-loop for each month:"
   ]
  },
  {
   "cell_type": "code",
   "execution_count": 9,
   "id": "8bd4b8b2",
   "metadata": {},
   "outputs": [
    {
     "name": "stdout",
     "output_type": "stream",
     "text": [
      "document loaded\n",
      "document loaded\n",
      "document loaded\n",
      "document loaded\n",
      "document loaded\n",
      "document loaded\n",
      "document loaded\n",
      "document loaded\n",
      "document loaded\n",
      "document loaded\n",
      "document loaded\n",
      "document loaded\n"
     ]
    }
   ],
   "source": [
    "# Load the json-files into the mongoDB\n",
    "\n",
    "files = [\"archive_2020_1.json\",\n",
    "         \"archive_2020_2.json\",\n",
    "         \"archive_2020_3.json\",\n",
    "         \"archive_2020_4.json\",\n",
    "         \"archive_2020_5.json\",\n",
    "         \"archive_2020_6.json\",\n",
    "         \"archive_2020_7.json\",\n",
    "         \"archive_2020_8.json\",\n",
    "         \"archive_2020_9.json\",\n",
    "         \"archive_2020_10.json\",\n",
    "         \"archive_2020_11.json\",\n",
    "         \"archive_2020_12.json\"]\n",
    "\n",
    "for i in files:\n",
    "    with open(i) as f:\n",
    "        data = json.load(f)\n",
    "        \n",
    "        for x in range(len(data)):\n",
    "            archive.insert_one(data[x])\n",
    "        print(\"document loaded\")"
   ]
  },
  {
   "cell_type": "code",
   "execution_count": 10,
   "id": "348929df",
   "metadata": {},
   "outputs": [
    {
     "data": {
      "text/plain": [
       "55493"
      ]
     },
     "execution_count": 10,
     "metadata": {},
     "output_type": "execute_result"
    }
   ],
   "source": [
    "#Check how many files where inserted\n",
    "\n",
    "archive.count_documents({})"
   ]
  },
  {
   "cell_type": "code",
   "execution_count": 11,
   "id": "bb7f1bd9",
   "metadata": {},
   "outputs": [
    {
     "data": {
      "text/html": [
       "<div>\n",
       "<style scoped>\n",
       "    .dataframe tbody tr th:only-of-type {\n",
       "        vertical-align: middle;\n",
       "    }\n",
       "\n",
       "    .dataframe tbody tr th {\n",
       "        vertical-align: top;\n",
       "    }\n",
       "\n",
       "    .dataframe thead th {\n",
       "        text-align: right;\n",
       "    }\n",
       "</style>\n",
       "<table border=\"1\" class=\"dataframe\">\n",
       "  <thead>\n",
       "    <tr style=\"text-align: right;\">\n",
       "      <th></th>\n",
       "      <th>_id</th>\n",
       "      <th>abstract</th>\n",
       "      <th>web_url</th>\n",
       "      <th>snippet</th>\n",
       "      <th>lead_paragraph</th>\n",
       "      <th>print_section</th>\n",
       "      <th>print_page</th>\n",
       "      <th>source</th>\n",
       "      <th>multimedia</th>\n",
       "      <th>headline</th>\n",
       "      <th>keywords</th>\n",
       "      <th>pub_date</th>\n",
       "      <th>document_type</th>\n",
       "      <th>news_desk</th>\n",
       "      <th>section_name</th>\n",
       "      <th>byline</th>\n",
       "      <th>type_of_material</th>\n",
       "      <th>word_count</th>\n",
       "      <th>uri</th>\n",
       "    </tr>\n",
       "  </thead>\n",
       "  <tbody>\n",
       "    <tr>\n",
       "      <th>0</th>\n",
       "      <td>nyt://article/22fc94cd-2e4a-5af1-89f8-7260bf27...</td>\n",
       "      <td>The gunman who shot two parishioners at the We...</td>\n",
       "      <td>https://www.nytimes.com/2019/12/31/us/texas-ch...</td>\n",
       "      <td>The gunman who shot two parishioners at the We...</td>\n",
       "      <td>WHITE SETTLEMENT, Texas — Given West Freeway C...</td>\n",
       "      <td>A</td>\n",
       "      <td>16</td>\n",
       "      <td>The New York Times</td>\n",
       "      <td>[{'rank': 0, 'subtype': 'xlarge', 'caption': N...</td>\n",
       "      <td>{'main': '‘Battling a Demon’: Drifter Sought H...</td>\n",
       "      <td>[{'name': 'subject', 'value': 'Churches (Build...</td>\n",
       "      <td>2020-01-01T00:14:41+0000</td>\n",
       "      <td>article</td>\n",
       "      <td>National</td>\n",
       "      <td>U.S.</td>\n",
       "      <td>{'original': 'By Dave Montgomery, Anemona Hart...</td>\n",
       "      <td>News</td>\n",
       "      <td>1295</td>\n",
       "      <td>nyt://article/22fc94cd-2e4a-5af1-89f8-7260bf27...</td>\n",
       "    </tr>\n",
       "    <tr>\n",
       "      <th>1</th>\n",
       "      <td>nyt://article/69a7090b-9f36-569e-b5ab-b0ba5bb3...</td>\n",
       "      <td>Congress could do much more to protect America...</td>\n",
       "      <td>https://www.nytimes.com/2019/12/31/opinion/for...</td>\n",
       "      <td>Congress could do much more to protect America...</td>\n",
       "      <td>Congress invited predatory for-profit colleges...</td>\n",
       "      <td>A</td>\n",
       "      <td>18</td>\n",
       "      <td>The New York Times</td>\n",
       "      <td>[{'rank': 0, 'subtype': 'xlarge', 'caption': N...</td>\n",
       "      <td>{'main': 'Protect Veterans From Fraud', 'kicke...</td>\n",
       "      <td>[{'name': 'subject', 'value': 'Veterans', 'ran...</td>\n",
       "      <td>2020-01-01T00:18:54+0000</td>\n",
       "      <td>article</td>\n",
       "      <td>Editorial</td>\n",
       "      <td>Opinion</td>\n",
       "      <td>{'original': 'By The Editorial Board', 'person...</td>\n",
       "      <td>Editorial</td>\n",
       "      <td>680</td>\n",
       "      <td>nyt://article/69a7090b-9f36-569e-b5ab-b0ba5bb3...</td>\n",
       "    </tr>\n",
       "    <tr>\n",
       "      <th>2</th>\n",
       "      <td>nyt://article/42d25485-0e48-50bf-8d16-948833b2...</td>\n",
       "      <td>The tobacco and vaping industries and conserva...</td>\n",
       "      <td>https://www.nytimes.com/2019/12/31/health/e-ci...</td>\n",
       "      <td>The tobacco and vaping industries and conserva...</td>\n",
       "      <td>The Trump administration is expected to announ...</td>\n",
       "      <td>A</td>\n",
       "      <td>1</td>\n",
       "      <td>The New York Times</td>\n",
       "      <td>[{'rank': 0, 'subtype': 'xlarge', 'caption': N...</td>\n",
       "      <td>{'main': 'F.D.A. Plans to Ban Most E-Cigarette...</td>\n",
       "      <td>[{'name': 'subject', 'value': 'E-Cigarettes', ...</td>\n",
       "      <td>2020-01-01T01:22:27+0000</td>\n",
       "      <td>article</td>\n",
       "      <td>Science</td>\n",
       "      <td>Health</td>\n",
       "      <td>{'original': 'By Sheila Kaplan and Maggie Habe...</td>\n",
       "      <td>News</td>\n",
       "      <td>1236</td>\n",
       "      <td>nyt://article/42d25485-0e48-50bf-8d16-948833b2...</td>\n",
       "    </tr>\n",
       "    <tr>\n",
       "      <th>3</th>\n",
       "      <td>nyt://article/9edddb54-0aa3-5835-a833-d311a76f...</td>\n",
       "      <td>Christina Iverson and Jeff Chen ring in the Ne...</td>\n",
       "      <td>https://www.nytimes.com/2019/12/31/crosswords/...</td>\n",
       "      <td>Christina Iverson and Jeff Chen ring in the Ne...</td>\n",
       "      <td>WEDNESDAY PUZZLE — The weekend columnist Caitl...</td>\n",
       "      <td>NaN</td>\n",
       "      <td>NaN</td>\n",
       "      <td>The New York Times</td>\n",
       "      <td>[{'rank': 0, 'subtype': 'xlarge', 'caption': N...</td>\n",
       "      <td>{'main': '‘It’s Green and Slimy’', 'kicker': '...</td>\n",
       "      <td>[{'name': 'subject', 'value': 'Crossword Puzzl...</td>\n",
       "      <td>2020-01-01T03:00:10+0000</td>\n",
       "      <td>article</td>\n",
       "      <td>Games</td>\n",
       "      <td>Crosswords &amp; Games</td>\n",
       "      <td>{'original': 'By Deb Amlen', 'person': [{'firs...</td>\n",
       "      <td>News</td>\n",
       "      <td>931</td>\n",
       "      <td>nyt://article/9edddb54-0aa3-5835-a833-d311a76f...</td>\n",
       "    </tr>\n",
       "    <tr>\n",
       "      <th>4</th>\n",
       "      <td>nyt://article/16ebc00a-01f2-5f35-905f-15d299e5...</td>\n",
       "      <td>Corrections that appeared in print on Wednesda...</td>\n",
       "      <td>https://www.nytimes.com/2019/12/31/pageoneplus...</td>\n",
       "      <td>Corrections that appeared in print on Wednesda...</td>\n",
       "      <td>An “On This Day in History” item on Tuesday ab...</td>\n",
       "      <td>A</td>\n",
       "      <td>20</td>\n",
       "      <td>The New York Times</td>\n",
       "      <td>[]</td>\n",
       "      <td>{'main': 'Corrections: Jan. 1, 2020', 'kicker'...</td>\n",
       "      <td>[]</td>\n",
       "      <td>2020-01-01T03:28:45+0000</td>\n",
       "      <td>article</td>\n",
       "      <td>Corrections</td>\n",
       "      <td>Corrections</td>\n",
       "      <td>{'original': '', 'person': [], 'organization':...</td>\n",
       "      <td>Correction</td>\n",
       "      <td>299</td>\n",
       "      <td>nyt://article/16ebc00a-01f2-5f35-905f-15d299e5...</td>\n",
       "    </tr>\n",
       "  </tbody>\n",
       "</table>\n",
       "</div>"
      ],
      "text/plain": [
       "                                                 _id  \\\n",
       "0  nyt://article/22fc94cd-2e4a-5af1-89f8-7260bf27...   \n",
       "1  nyt://article/69a7090b-9f36-569e-b5ab-b0ba5bb3...   \n",
       "2  nyt://article/42d25485-0e48-50bf-8d16-948833b2...   \n",
       "3  nyt://article/9edddb54-0aa3-5835-a833-d311a76f...   \n",
       "4  nyt://article/16ebc00a-01f2-5f35-905f-15d299e5...   \n",
       "\n",
       "                                            abstract  \\\n",
       "0  The gunman who shot two parishioners at the We...   \n",
       "1  Congress could do much more to protect America...   \n",
       "2  The tobacco and vaping industries and conserva...   \n",
       "3  Christina Iverson and Jeff Chen ring in the Ne...   \n",
       "4  Corrections that appeared in print on Wednesda...   \n",
       "\n",
       "                                             web_url  \\\n",
       "0  https://www.nytimes.com/2019/12/31/us/texas-ch...   \n",
       "1  https://www.nytimes.com/2019/12/31/opinion/for...   \n",
       "2  https://www.nytimes.com/2019/12/31/health/e-ci...   \n",
       "3  https://www.nytimes.com/2019/12/31/crosswords/...   \n",
       "4  https://www.nytimes.com/2019/12/31/pageoneplus...   \n",
       "\n",
       "                                             snippet  \\\n",
       "0  The gunman who shot two parishioners at the We...   \n",
       "1  Congress could do much more to protect America...   \n",
       "2  The tobacco and vaping industries and conserva...   \n",
       "3  Christina Iverson and Jeff Chen ring in the Ne...   \n",
       "4  Corrections that appeared in print on Wednesda...   \n",
       "\n",
       "                                      lead_paragraph print_section print_page  \\\n",
       "0  WHITE SETTLEMENT, Texas — Given West Freeway C...             A         16   \n",
       "1  Congress invited predatory for-profit colleges...             A         18   \n",
       "2  The Trump administration is expected to announ...             A          1   \n",
       "3  WEDNESDAY PUZZLE — The weekend columnist Caitl...           NaN        NaN   \n",
       "4  An “On This Day in History” item on Tuesday ab...             A         20   \n",
       "\n",
       "               source                                         multimedia  \\\n",
       "0  The New York Times  [{'rank': 0, 'subtype': 'xlarge', 'caption': N...   \n",
       "1  The New York Times  [{'rank': 0, 'subtype': 'xlarge', 'caption': N...   \n",
       "2  The New York Times  [{'rank': 0, 'subtype': 'xlarge', 'caption': N...   \n",
       "3  The New York Times  [{'rank': 0, 'subtype': 'xlarge', 'caption': N...   \n",
       "4  The New York Times                                                 []   \n",
       "\n",
       "                                            headline  \\\n",
       "0  {'main': '‘Battling a Demon’: Drifter Sought H...   \n",
       "1  {'main': 'Protect Veterans From Fraud', 'kicke...   \n",
       "2  {'main': 'F.D.A. Plans to Ban Most E-Cigarette...   \n",
       "3  {'main': '‘It’s Green and Slimy’', 'kicker': '...   \n",
       "4  {'main': 'Corrections: Jan. 1, 2020', 'kicker'...   \n",
       "\n",
       "                                            keywords  \\\n",
       "0  [{'name': 'subject', 'value': 'Churches (Build...   \n",
       "1  [{'name': 'subject', 'value': 'Veterans', 'ran...   \n",
       "2  [{'name': 'subject', 'value': 'E-Cigarettes', ...   \n",
       "3  [{'name': 'subject', 'value': 'Crossword Puzzl...   \n",
       "4                                                 []   \n",
       "\n",
       "                   pub_date document_type    news_desk        section_name  \\\n",
       "0  2020-01-01T00:14:41+0000       article     National                U.S.   \n",
       "1  2020-01-01T00:18:54+0000       article    Editorial             Opinion   \n",
       "2  2020-01-01T01:22:27+0000       article      Science              Health   \n",
       "3  2020-01-01T03:00:10+0000       article        Games  Crosswords & Games   \n",
       "4  2020-01-01T03:28:45+0000       article  Corrections         Corrections   \n",
       "\n",
       "                                              byline type_of_material  \\\n",
       "0  {'original': 'By Dave Montgomery, Anemona Hart...             News   \n",
       "1  {'original': 'By The Editorial Board', 'person...        Editorial   \n",
       "2  {'original': 'By Sheila Kaplan and Maggie Habe...             News   \n",
       "3  {'original': 'By Deb Amlen', 'person': [{'firs...             News   \n",
       "4  {'original': '', 'person': [], 'organization':...       Correction   \n",
       "\n",
       "   word_count                                                uri  \n",
       "0        1295  nyt://article/22fc94cd-2e4a-5af1-89f8-7260bf27...  \n",
       "1         680  nyt://article/69a7090b-9f36-569e-b5ab-b0ba5bb3...  \n",
       "2        1236  nyt://article/42d25485-0e48-50bf-8d16-948833b2...  \n",
       "3         931  nyt://article/9edddb54-0aa3-5835-a833-d311a76f...  \n",
       "4         299  nyt://article/16ebc00a-01f2-5f35-905f-15d299e5...  "
      ]
     },
     "execution_count": 11,
     "metadata": {},
     "output_type": "execute_result"
    }
   ],
   "source": [
    "# Take a first look at the structure of the loaded documents\n",
    "\n",
    "c = archive.aggregate([\n",
    "    {\"$limit\": 5},\n",
    "])\n",
    "\n",
    "pd.DataFrame(c)"
   ]
  },
  {
   "cell_type": "markdown",
   "id": "484f25a6",
   "metadata": {},
   "source": [
    "As can be seen, the data was successfully loaded into MongoDB. Before starting the actual data analysis, it is worth taking a look at the structure of the individual objects. In the following graphic you can see how the data is structured and what information is contained in a nested structure.\n",
    "\n",
    "![ERM](./images/ERM.png)\n"
   ]
  },
  {
   "cell_type": "markdown",
   "id": "824ac02d",
   "metadata": {},
   "source": [
    "## Data Analysis\n",
    "\n",
    "Now that the *Extract* and *Load* phases have been completed, the definitive analysis of the New York Times article archive can begin. In order to make the analysis as consistent as possible, the following queries were carried out one after the other:\n",
    "\n",
    "* Top 5 Authors in the Year 2020\n",
    "* Articles per Month\n",
    "* WordCloud analysis Abstracts per Month\n",
    "* Longest Sections per Month\n",
    "* Developement of the printpage section \"Health\""
   ]
  },
  {
   "cell_type": "markdown",
   "id": "21a681ae",
   "metadata": {},
   "source": [
    "### Top 5 authors in 2020\n",
    "\n",
    "The first step is to see which authors belong to the top 5 of the New York Times in terms of quantity of articles:"
   ]
  },
  {
   "cell_type": "code",
   "execution_count": 9,
   "id": "184f6ed6",
   "metadata": {},
   "outputs": [
    {
     "data": {
      "text/html": [
       "<div>\n",
       "<style scoped>\n",
       "    .dataframe tbody tr th:only-of-type {\n",
       "        vertical-align: middle;\n",
       "    }\n",
       "\n",
       "    .dataframe tbody tr th {\n",
       "        vertical-align: top;\n",
       "    }\n",
       "\n",
       "    .dataframe thead th {\n",
       "        text-align: right;\n",
       "    }\n",
       "</style>\n",
       "<table border=\"1\" class=\"dataframe\">\n",
       "  <thead>\n",
       "    <tr style=\"text-align: right;\">\n",
       "      <th></th>\n",
       "      <th>firstname</th>\n",
       "      <th>lastname</th>\n",
       "      <th>count</th>\n",
       "    </tr>\n",
       "  </thead>\n",
       "  <tbody>\n",
       "    <tr>\n",
       "      <th>0</th>\n",
       "      <td>Florence</td>\n",
       "      <td>Fabricant</td>\n",
       "      <td>374</td>\n",
       "    </tr>\n",
       "    <tr>\n",
       "      <th>1</th>\n",
       "      <td>Giovanni</td>\n",
       "      <td>Russonello</td>\n",
       "      <td>291</td>\n",
       "    </tr>\n",
       "    <tr>\n",
       "      <th>2</th>\n",
       "      <td>Deb</td>\n",
       "      <td>Amlen</td>\n",
       "      <td>268</td>\n",
       "    </tr>\n",
       "    <tr>\n",
       "      <th>3</th>\n",
       "      <td>Michael</td>\n",
       "      <td></td>\n",
       "      <td>258</td>\n",
       "    </tr>\n",
       "    <tr>\n",
       "      <th>4</th>\n",
       "      <td>David</td>\n",
       "      <td>Leonhardt</td>\n",
       "      <td>245</td>\n",
       "    </tr>\n",
       "  </tbody>\n",
       "</table>\n",
       "</div>"
      ],
      "text/plain": [
       "  firstname    lastname count\n",
       "0  Florence   Fabricant   374\n",
       "1  Giovanni  Russonello   291\n",
       "2       Deb       Amlen   268\n",
       "3   Michael               258\n",
       "4     David   Leonhardt   245"
      ]
     },
     "execution_count": 9,
     "metadata": {},
     "output_type": "execute_result"
    }
   ],
   "source": [
    "pipeline = [\n",
    "    {\"$unwind\": \"$byline.person\"},\n",
    "    {\"$group\": {\"_id\": \"$byline.person\", \"count\": {\"$sum\": 1}}},\n",
    "    { \"$sort\": { \"count\": -1}}\n",
    "]\n",
    "\n",
    "authors = list(archive.aggregate(pipeline))\n",
    "\n",
    "df_top_5 = pd.DataFrame(columns=[\"firstname\", \"lastname\", \"count\"])\n",
    "\n",
    "for i in range(0,5):\n",
    "    df_authors = pd.DataFrame(authors[i]).T\n",
    "    df_authors['count'] = df_authors.iloc[1][0]\n",
    "    df_authors.drop([\"middlename\", \"organization\", \"qualifier\", \"rank\", \"role\", \"title\"], axis = 1, inplace = True)\n",
    "    df_authors.drop(\"count\", axis= 0, inplace = True)\n",
    "    df_top_5 = df_top_5.append(df_authors, ignore_index=True)\n",
    "\n",
    "df_top_5\n"
   ]
  },
  {
   "cell_type": "markdown",
   "id": "9c757da1",
   "metadata": {},
   "source": [
    "These 5 authors wrote the most articles for the New York Times in 2020. In the following, we will now look at the sections in which these authors were active."
   ]
  },
  {
   "cell_type": "markdown",
   "id": "a5a0b416",
   "metadata": {},
   "source": [
    "#### Florence Fabricant - Number of Articles per section"
   ]
  },
  {
   "cell_type": "code",
   "execution_count": 10,
   "id": "e1e5dc9d",
   "metadata": {},
   "outputs": [
    {
     "data": {
      "text/html": [
       "<div>\n",
       "<style scoped>\n",
       "    .dataframe tbody tr th:only-of-type {\n",
       "        vertical-align: middle;\n",
       "    }\n",
       "\n",
       "    .dataframe tbody tr th {\n",
       "        vertical-align: top;\n",
       "    }\n",
       "\n",
       "    .dataframe thead th {\n",
       "        text-align: right;\n",
       "    }\n",
       "</style>\n",
       "<table border=\"1\" class=\"dataframe\">\n",
       "  <thead>\n",
       "    <tr style=\"text-align: right;\">\n",
       "      <th></th>\n",
       "      <th>_id</th>\n",
       "      <th>count</th>\n",
       "    </tr>\n",
       "  </thead>\n",
       "  <tbody>\n",
       "    <tr>\n",
       "      <th>0</th>\n",
       "      <td>At Home</td>\n",
       "      <td>7</td>\n",
       "    </tr>\n",
       "    <tr>\n",
       "      <th>1</th>\n",
       "      <td>Food</td>\n",
       "      <td>367</td>\n",
       "    </tr>\n",
       "  </tbody>\n",
       "</table>\n",
       "</div>"
      ],
      "text/plain": [
       "       _id  count\n",
       "0  At Home      7\n",
       "1     Food    367"
      ]
     },
     "execution_count": 10,
     "metadata": {},
     "output_type": "execute_result"
    }
   ],
   "source": [
    "project = {\n",
    "    \"$project\": {\n",
    "        \"section_name\": 1,\n",
    "        \"byline\": 1\n",
    "    }\n",
    "}\n",
    "\n",
    "match = {\n",
    "    \"$match\": {\n",
    "        \"byline.person.lastname\": \"Fabricant\"\n",
    "    }\n",
    "}\n",
    "\n",
    "group = {\n",
    "    \"$group\": {\n",
    "        \"_id\": \"$section_name\",\n",
    "        \"count\": {\"$sum\": 1}\n",
    "    }\n",
    "}\n",
    "\n",
    "pipeline = [project, match, group]\n",
    "\n",
    "c = archive.aggregate(pipeline)\n",
    "\n",
    "df_fabricant = pd.DataFrame(c)\n",
    "\n",
    "df_fabricant"
   ]
  },
  {
   "cell_type": "markdown",
   "id": "27d137b2",
   "metadata": {},
   "source": [
    "#### Giovanni Russonello - Number of Articles per section"
   ]
  },
  {
   "cell_type": "code",
   "execution_count": 11,
   "id": "dc28d2b4",
   "metadata": {},
   "outputs": [
    {
     "data": {
      "text/html": [
       "<div>\n",
       "<style scoped>\n",
       "    .dataframe tbody tr th:only-of-type {\n",
       "        vertical-align: middle;\n",
       "    }\n",
       "\n",
       "    .dataframe tbody tr th {\n",
       "        vertical-align: top;\n",
       "    }\n",
       "\n",
       "    .dataframe thead th {\n",
       "        text-align: right;\n",
       "    }\n",
       "</style>\n",
       "<table border=\"1\" class=\"dataframe\">\n",
       "  <thead>\n",
       "    <tr style=\"text-align: right;\">\n",
       "      <th></th>\n",
       "      <th>_id</th>\n",
       "      <th>count</th>\n",
       "    </tr>\n",
       "  </thead>\n",
       "  <tbody>\n",
       "    <tr>\n",
       "      <th>0</th>\n",
       "      <td>U.S.</td>\n",
       "      <td>265</td>\n",
       "    </tr>\n",
       "    <tr>\n",
       "      <th>1</th>\n",
       "      <td>Arts</td>\n",
       "      <td>84</td>\n",
       "    </tr>\n",
       "    <tr>\n",
       "      <th>2</th>\n",
       "      <td>Obituaries</td>\n",
       "      <td>2</td>\n",
       "    </tr>\n",
       "    <tr>\n",
       "      <th>3</th>\n",
       "      <td>Movies</td>\n",
       "      <td>1</td>\n",
       "    </tr>\n",
       "    <tr>\n",
       "      <th>4</th>\n",
       "      <td>World</td>\n",
       "      <td>1</td>\n",
       "    </tr>\n",
       "  </tbody>\n",
       "</table>\n",
       "</div>"
      ],
      "text/plain": [
       "          _id  count\n",
       "0        U.S.    265\n",
       "1        Arts     84\n",
       "2  Obituaries      2\n",
       "3      Movies      1\n",
       "4       World      1"
      ]
     },
     "execution_count": 11,
     "metadata": {},
     "output_type": "execute_result"
    }
   ],
   "source": [
    "project = {\n",
    "    \"$project\": {\n",
    "        \"section_name\": 1,\n",
    "        \"byline\": 1\n",
    "    }\n",
    "}\n",
    "\n",
    "match = {\n",
    "    \"$match\": {\n",
    "        \"byline.person.lastname\": \"Russonello\"\n",
    "    }\n",
    "}\n",
    "\n",
    "group = {\n",
    "    \"$group\": {\n",
    "        \"_id\": \"$section_name\",\n",
    "        \"count\": {\"$sum\": 1}\n",
    "    }\n",
    "}\n",
    "\n",
    "pipeline = [project, match, group]\n",
    "\n",
    "c = archive.aggregate(pipeline)\n",
    "\n",
    "df_russonello = pd.DataFrame(c)\n",
    "\n",
    "df_russonello"
   ]
  },
  {
   "cell_type": "markdown",
   "id": "2fadc198",
   "metadata": {},
   "source": [
    "#### Deb Amlen - Number of Articles per section"
   ]
  },
  {
   "cell_type": "code",
   "execution_count": 12,
   "id": "9f027fa0",
   "metadata": {},
   "outputs": [
    {
     "data": {
      "text/html": [
       "<div>\n",
       "<style scoped>\n",
       "    .dataframe tbody tr th:only-of-type {\n",
       "        vertical-align: middle;\n",
       "    }\n",
       "\n",
       "    .dataframe tbody tr th {\n",
       "        vertical-align: top;\n",
       "    }\n",
       "\n",
       "    .dataframe thead th {\n",
       "        text-align: right;\n",
       "    }\n",
       "</style>\n",
       "<table border=\"1\" class=\"dataframe\">\n",
       "  <thead>\n",
       "    <tr style=\"text-align: right;\">\n",
       "      <th></th>\n",
       "      <th>_id</th>\n",
       "      <th>count</th>\n",
       "    </tr>\n",
       "  </thead>\n",
       "  <tbody>\n",
       "    <tr>\n",
       "      <th>0</th>\n",
       "      <td>Crosswords &amp; Games</td>\n",
       "      <td>268</td>\n",
       "    </tr>\n",
       "    <tr>\n",
       "      <th>1</th>\n",
       "      <td>Smarter Living</td>\n",
       "      <td>1</td>\n",
       "    </tr>\n",
       "  </tbody>\n",
       "</table>\n",
       "</div>"
      ],
      "text/plain": [
       "                  _id  count\n",
       "0  Crosswords & Games    268\n",
       "1      Smarter Living      1"
      ]
     },
     "execution_count": 12,
     "metadata": {},
     "output_type": "execute_result"
    }
   ],
   "source": [
    "project = {\n",
    "    \"$project\": {\n",
    "        \"section_name\": 1,\n",
    "        \"byline\": 1\n",
    "    }\n",
    "}\n",
    "\n",
    "match = {\n",
    "    \"$match\": {\n",
    "        \"byline.person.lastname\": \"Amlen\"\n",
    "    }\n",
    "}\n",
    "\n",
    "group = {\n",
    "    \"$group\": {\n",
    "        \"_id\": \"$section_name\",\n",
    "        \"count\": {\"$sum\": 1}\n",
    "    }\n",
    "}\n",
    "\n",
    "pipeline = [project, match, group]\n",
    "\n",
    "c = archive.aggregate(pipeline)\n",
    "\n",
    "df_amlen = pd.DataFrame(c)\n",
    "\n",
    "df_amlen"
   ]
  },
  {
   "cell_type": "markdown",
   "id": "334396e9",
   "metadata": {},
   "source": [
    "#### David Leonhardt - Number of articles per section"
   ]
  },
  {
   "cell_type": "code",
   "execution_count": 13,
   "id": "4d006c60",
   "metadata": {},
   "outputs": [
    {
     "data": {
      "text/html": [
       "<div>\n",
       "<style scoped>\n",
       "    .dataframe tbody tr th:only-of-type {\n",
       "        vertical-align: middle;\n",
       "    }\n",
       "\n",
       "    .dataframe tbody tr th {\n",
       "        vertical-align: top;\n",
       "    }\n",
       "\n",
       "    .dataframe thead th {\n",
       "        text-align: right;\n",
       "    }\n",
       "</style>\n",
       "<table border=\"1\" class=\"dataframe\">\n",
       "  <thead>\n",
       "    <tr style=\"text-align: right;\">\n",
       "      <th></th>\n",
       "      <th>_id</th>\n",
       "      <th>count</th>\n",
       "    </tr>\n",
       "  </thead>\n",
       "  <tbody>\n",
       "    <tr>\n",
       "      <th>0</th>\n",
       "      <td>U.S.</td>\n",
       "      <td>3</td>\n",
       "    </tr>\n",
       "    <tr>\n",
       "      <th>1</th>\n",
       "      <td>Opinion</td>\n",
       "      <td>88</td>\n",
       "    </tr>\n",
       "    <tr>\n",
       "      <th>2</th>\n",
       "      <td>Briefing</td>\n",
       "      <td>152</td>\n",
       "    </tr>\n",
       "    <tr>\n",
       "      <th>3</th>\n",
       "      <td>Business Day</td>\n",
       "      <td>1</td>\n",
       "    </tr>\n",
       "    <tr>\n",
       "      <th>4</th>\n",
       "      <td>Reader Center</td>\n",
       "      <td>1</td>\n",
       "    </tr>\n",
       "  </tbody>\n",
       "</table>\n",
       "</div>"
      ],
      "text/plain": [
       "             _id  count\n",
       "0           U.S.      3\n",
       "1        Opinion     88\n",
       "2       Briefing    152\n",
       "3   Business Day      1\n",
       "4  Reader Center      1"
      ]
     },
     "execution_count": 13,
     "metadata": {},
     "output_type": "execute_result"
    }
   ],
   "source": [
    "project = {\n",
    "    \"$project\": {\n",
    "        \"section_name\": 1,\n",
    "        \"byline\": 1\n",
    "    }\n",
    "}\n",
    "\n",
    "match = {\n",
    "    \"$match\": {\n",
    "        \"byline.person.lastname\": \"Leonhardt\"\n",
    "    }\n",
    "}\n",
    "\n",
    "group = {\n",
    "    \"$group\": {\n",
    "        \"_id\": \"$section_name\",\n",
    "        \"count\": {\"$sum\": 1}\n",
    "    }\n",
    "}\n",
    "\n",
    "pipeline = [project, match, group]\n",
    "\n",
    "c = archive.aggregate(pipeline)\n",
    "\n",
    "df_leonhardt = pd.DataFrame(c)\n",
    "\n",
    "df_leonhardt"
   ]
  },
  {
   "cell_type": "markdown",
   "id": "d470549a",
   "metadata": {},
   "source": [
    "Based on this analysis, it can now be said that the \"Health\" section is not one of the top sections of the New York Times. This gives a first sense of the importance of this section in the newspaper."
   ]
  },
  {
   "cell_type": "markdown",
   "id": "a1cff2c2",
   "metadata": {},
   "source": [
    "### Articles per Month\n",
    "\n",
    "Then we look at how many articles were published in which month of the year:"
   ]
  },
  {
   "cell_type": "code",
   "execution_count": 14,
   "id": "69a8b4ad",
   "metadata": {},
   "outputs": [],
   "source": [
    "monthly_number = {}\n",
    "count=0\n",
    "list_df = []\n",
    "\n",
    "for i in range(1,13):\n",
    "    count+=1\n",
    "    if count <=9:\n",
    "        c = archive.find({\n",
    "            \"pub_date\": {\"$gt\": \"2020-0{}-01T00:00:00+0000\".format(i), \"$lt\": \"2020-0{}-31T23:59:59+0000\".format(i)}\n",
    "        }, {\n",
    "            \"pub_date\":1,\n",
    "            \"abstract\": 1,\n",
    "        })\n",
    "    else:\n",
    "        c = archive.find({\n",
    "            \"pub_date\": {\"$gt\": \"2020-{}-01T00:00:00+0000\".format(i), \"$lt\": \"2020-{}-31T23:59:59+0000\".format(i)}\n",
    "        }, {\n",
    "            \"pub_date\":1,\n",
    "            \"abstract\": 1\n",
    "        })\n",
    "    \n",
    "    df_c = pd.DataFrame(c)\n",
    "    list_df.append(df_c)\n",
    "    \n",
    "    monthly_number[i] = len(df_c)\n"
   ]
  },
  {
   "cell_type": "code",
   "execution_count": 15,
   "id": "4016042d",
   "metadata": {},
   "outputs": [
    {
     "data": {
      "image/png": "[encoded data removed]",
      "text/plain": [
       "<Figure size 432x288 with 1 Axes>"
      ]
     },
     "metadata": {
      "needs_background": "light"
     },
     "output_type": "display_data"
    }
   ],
   "source": [
    "plt.plot(range(len(monthly_number)), list(monthly_number.values()), '.')\n",
    "plt.ylim(0,6000)\n",
    "plt.ylabel(\"Number of Articles\")\n",
    "plt.xlabel(\"Months\")\n",
    "plt.xticks(range(len(monthly_number)), list(monthly_number.keys()))\n",
    "plt.title(\"Number of Articles per Month\")\n",
    "plt.show()"
   ]
  },
  {
   "cell_type": "markdown",
   "id": "d62868ce",
   "metadata": {},
   "source": [
    "As can be easily seen in the plot, the number of articles remains more or less constant throughout the year. It is interesting to see that there is an increase in the number of articles in the months of March / April and October / November. For this reason, the following query looks at the WordClouds of these months in particular."
   ]
  },
  {
   "cell_type": "markdown",
   "id": "ea078164",
   "metadata": {},
   "source": [
    "### Analyse Abstract (WORDCLOUD)\n",
    "\n",
    "As a second analysis, the abstracts per month are analysed. For this purpose, the abstract for each article in the month is loaded into the Python package [nltk](https://www.nltk.org/) and a Wordcloud is created. The principle of a Wordcloud is to analyse a typed text and represent the frequently mentioned words in different sizes. The size of the respective word then indicates how much the word occurs in the text. A possible definition of this graphic can be read in this [link](https://www.infoclio.ch/de/node/130207).\n",
    "\n",
    "This analysis is also made for each month individually. As described earlier, special attention is paid to the months of March / April and October / November."
   ]
  },
  {
   "cell_type": "code",
   "execution_count": 16,
   "id": "f5833317",
   "metadata": {},
   "outputs": [
    {
     "name": "stderr",
     "output_type": "stream",
     "text": [
      "[nltk_data] Downloading package stopwords to\n",
      "[nltk_data]     C:\\Users\\saend\\AppData\\Roaming\\nltk_data...\n",
      "[nltk_data]   Package stopwords is already up-to-date!\n",
      "[nltk_data] Downloading package stopwords to\n",
      "[nltk_data]     C:\\Users\\saend\\AppData\\Roaming\\nltk_data...\n",
      "[nltk_data]   Package stopwords is already up-to-date!\n",
      "[nltk_data] Downloading package stopwords to\n",
      "[nltk_data]     C:\\Users\\saend\\AppData\\Roaming\\nltk_data...\n",
      "[nltk_data]   Package stopwords is already up-to-date!\n",
      "[nltk_data] Downloading package stopwords to\n",
      "[nltk_data]     C:\\Users\\saend\\AppData\\Roaming\\nltk_data...\n",
      "[nltk_data]   Package stopwords is already up-to-date!\n",
      "[nltk_data] Downloading package stopwords to\n",
      "[nltk_data]     C:\\Users\\saend\\AppData\\Roaming\\nltk_data...\n",
      "[nltk_data]   Package stopwords is already up-to-date!\n",
      "[nltk_data] Downloading package stopwords to\n",
      "[nltk_data]     C:\\Users\\saend\\AppData\\Roaming\\nltk_data...\n",
      "[nltk_data]   Package stopwords is already up-to-date!\n",
      "[nltk_data] Downloading package stopwords to\n",
      "[nltk_data]     C:\\Users\\saend\\AppData\\Roaming\\nltk_data...\n",
      "[nltk_data]   Package stopwords is already up-to-date!\n",
      "[nltk_data] Downloading package stopwords to\n",
      "[nltk_data]     C:\\Users\\saend\\AppData\\Roaming\\nltk_data...\n",
      "[nltk_data]   Package stopwords is already up-to-date!\n",
      "[nltk_data] Downloading package stopwords to\n",
      "[nltk_data]     C:\\Users\\saend\\AppData\\Roaming\\nltk_data...\n",
      "[nltk_data]   Package stopwords is already up-to-date!\n",
      "[nltk_data] Downloading package stopwords to\n",
      "[nltk_data]     C:\\Users\\saend\\AppData\\Roaming\\nltk_data...\n",
      "[nltk_data]   Package stopwords is already up-to-date!\n",
      "[nltk_data] Downloading package stopwords to\n",
      "[nltk_data]     C:\\Users\\saend\\AppData\\Roaming\\nltk_data...\n",
      "[nltk_data]   Package stopwords is already up-to-date!\n",
      "[nltk_data] Downloading package stopwords to\n",
      "[nltk_data]     C:\\Users\\saend\\AppData\\Roaming\\nltk_data...\n",
      "[nltk_data]   Package stopwords is already up-to-date!\n"
     ]
    }
   ],
   "source": [
    "for i in range(1,len(list_df)+1):\n",
    "    \n",
    "    import nltk\n",
    "    nltk.download('stopwords')\n",
    "    from nltk.corpus import stopwords\n",
    "    from wordcloud import WordCloud\n",
    "    \n",
    "    # Create stopword list:\n",
    "    stopwords = set(stopwords.words('english'))\n",
    "    stopwords.update([\"br\", \"href\"])\n",
    "    textt = \" \".join(review for review in list_df[i-1].abstract) ## access the wanted column in the dataframe\n",
    "    wordcloud = WordCloud(stopwords=stopwords).generate(textt)\n",
    "    plt.imshow(wordcloud, interpolation='bilinear')\n",
    "    plt.axis(\"off\")\n",
    "    plt.savefig('./images/wordcloud_{}.jpg'.format(i))\n",
    "    plt.close()"
   ]
  },
  {
   "cell_type": "markdown",
   "id": "0590c0d7",
   "metadata": {},
   "source": [
    "After the images have been saved in the **images** folder, the four (March, April, October and November) Wordclouds in focus are examined below:\n",
    "\n",
    "**March**:\n",
    "\n",
    "![Wordcloud March](./images/wordcloud_3.png)\n",
    "\n",
    "**April**:\n",
    "\n",
    "![Wordcloud April](./images/wordcloud_4.png)\n",
    "\n",
    "**October**:\n",
    "\n",
    "![Wordcloud October](./images/wordcloud_10.png)\n",
    "\n",
    "**November**:\n",
    "\n",
    "![Wordcloud November](./images/wordcloud_11.png)"
   ]
  },
  {
   "cell_type": "markdown",
   "id": "cf403fe2",
   "metadata": {},
   "source": [
    "As it can be easily seen, there were two events in each month that dominated the reporting. In March and April it was the outbreak of the worldwide COVID-19 pandemic and in October and November it was the American presidential election, which was very well covered and frequent in the news."
   ]
  },
  {
   "cell_type": "markdown",
   "id": "1bbfa345",
   "metadata": {},
   "source": [
    "### Article length of section 'Health' per Month\n",
    "\n",
    "Following the evaluation of the abstracts of the respective articles, we will now take a closer look at the articles from the 'Health' section. First, we will take a closer look at the length of these articles. For this purpose, the articles from the relevant section are examined for each month and then the monthly average length of the articles is considered in each case:"
   ]
  },
  {
   "cell_type": "code",
   "execution_count": 19,
   "id": "8bc47aa3",
   "metadata": {},
   "outputs": [
    {
     "name": "stdout",
     "output_type": "stream",
     "text": [
      "Example for the month of December\n"
     ]
    },
    {
     "data": {
      "text/html": [
       "<div>\n",
       "<style scoped>\n",
       "    .dataframe tbody tr th:only-of-type {\n",
       "        vertical-align: middle;\n",
       "    }\n",
       "\n",
       "    .dataframe tbody tr th {\n",
       "        vertical-align: top;\n",
       "    }\n",
       "\n",
       "    .dataframe thead th {\n",
       "        text-align: right;\n",
       "    }\n",
       "</style>\n",
       "<table border=\"1\" class=\"dataframe\">\n",
       "  <thead>\n",
       "    <tr style=\"text-align: right;\">\n",
       "      <th></th>\n",
       "      <th>_id</th>\n",
       "      <th>average_words</th>\n",
       "    </tr>\n",
       "  </thead>\n",
       "  <tbody>\n",
       "    <tr>\n",
       "      <th>0</th>\n",
       "      <td>Health</td>\n",
       "      <td>1155.93</td>\n",
       "    </tr>\n",
       "  </tbody>\n",
       "</table>\n",
       "</div>"
      ],
      "text/plain": [
       "      _id  average_words\n",
       "0  Health        1155.93"
      ]
     },
     "execution_count": 19,
     "metadata": {},
     "output_type": "execute_result"
    }
   ],
   "source": [
    "\n",
    "count=0\n",
    "list_section_length = []\n",
    "\n",
    "for i in range(1,13):\n",
    "    count+=1\n",
    "    if count <=9:\n",
    "        project = {\n",
    "            \"$project\": {\n",
    "                \"_id\": 0,\n",
    "                \"section_name\": 1,\n",
    "                \"word_count\": 1\n",
    "            }\n",
    "        }\n",
    "        \n",
    "        match = {\n",
    "            \"$match\": {\n",
    "                \"pub_date\": {\"$gt\": \"2020-0{}-01T00:00:00+0000\".format(i), \"$lt\": \"2020-0{}-31T23:59:59+0000\".format(i)},\n",
    "                \"section_name\": \"Health\"\n",
    "            }\n",
    "        }\n",
    "\n",
    "        group = {\n",
    "            \"$group\": {\n",
    "                \"_id\": \"$section_name\",\n",
    "                \"average_words\": {\"$avg\": \"$word_count\"}\n",
    "            }\n",
    "        }\n",
    "        \n",
    "        sort = {\n",
    "            \"$sort\": {\n",
    "                \"average_words\": -1\n",
    "            }\n",
    "        }\n",
    "        \n",
    "    else:\n",
    "        project = {\n",
    "            \"$project\": {\n",
    "                \"_id\": 0,\n",
    "                \"section_name\": 1,\n",
    "                \"word_count\": 1\n",
    "            }\n",
    "        }\n",
    "        \n",
    "        match = {\n",
    "            \"$match\": {\n",
    "                \"pub_date\": {\"$gt\": \"2020-{}-01T00:00:00+0000\".format(i), \"$lt\": \"2020-{}-31T23:59:59+0000\".format(i)},\n",
    "                \"section_name\": \"Health\"\n",
    "            }\n",
    "        }\n",
    "\n",
    "        group = {\n",
    "            \"$group\": {\n",
    "                \"_id\": \"$section_name\",\n",
    "                \"average_words\": {\"$avg\": \"$word_count\"}\n",
    "            }\n",
    "        }\n",
    "        \n",
    "        sort = {\n",
    "            \"$sort\": {\n",
    "                \"average_words\": -1\n",
    "            }\n",
    "        }\n",
    "\n",
    "    pipeline = [match, project, group, sort]\n",
    "\n",
    "    c = archive.aggregate(pipeline)\n",
    "\n",
    "    df_average_words = pd.DataFrame(c)\n",
    "    \n",
    "    list_section_length.append(int(df_average_words['average_words']))\n",
    "\n",
    "\n",
    "print(\"Example for the month of December\")\n",
    "df_average_words"
   ]
  },
  {
   "cell_type": "code",
   "execution_count": 20,
   "id": "719b9d5d",
   "metadata": {},
   "outputs": [
    {
     "data": {
      "image/png": "[encoded data removed]",
      "text/plain": [
       "<Figure size 432x288 with 1 Axes>"
      ]
     },
     "metadata": {
      "needs_background": "light"
     },
     "output_type": "display_data"
    }
   ],
   "source": [
    "plt.plot(range(len(list_section_length)), list_section_length, '.')\n",
    "#y = range(1,13)\n",
    "#x = list_section_length\n",
    "#m, b = np.polyfit(x, y, 1)\n",
    "#plt.plot(list_section_length, m*x + b)\n",
    "plt.ylim(0,1500)\n",
    "plt.ylabel(\"Average length of Articles\")\n",
    "plt.xlabel(\"Months\")\n",
    "plt.xticks(range(len(list_section_length)), list(range(1,13)))\n",
    "plt.title(\"Wordcount Articles Section 'Health' in 2020\")\n",
    "plt.show()"
   ]
  },
  {
   "cell_type": "markdown",
   "id": "b224b80d",
   "metadata": {},
   "source": [
    "The plot highlights the fact, that the length of the articles trough out the year remained very constant. Only in the month of March did the average length increase to about 1300 words per article. This suggests that the articles in this category were effectively somewhat longer during the outbreak of the pandemic, but that the impact of this shock did not last very long."
   ]
  },
  {
   "cell_type": "markdown",
   "id": "bb3a56cf",
   "metadata": {},
   "source": [
    "### Printpage of Section 'Health'\n",
    "\n",
    "Having established that the length of articles in the 'Health' section has not changed significantly as a result of the pandemic, we will now look at whether the importance of the section within the newspaper has increased. For this purpose, the 'print page' of the articles from the 'Health' section will be examined. If the print page approaches the front page, it can be assumed that the importance of the topic of health within the newspaper has increased."
   ]
  },
  {
   "cell_type": "code",
   "execution_count": 22,
   "id": "bf60a615",
   "metadata": {},
   "outputs": [],
   "source": [
    "count=0\n",
    "list_print_page = []\n",
    "\n",
    "for i in range(1,13):\n",
    "    count+=1\n",
    "    if count <=9:\n",
    "\n",
    "        project = {\n",
    "            \"$project\": {\n",
    "                \"section_name\": 1,\n",
    "                \"print_page\": 1,\n",
    "                \"pub_date\": 1\n",
    "            }\n",
    "        }\n",
    "\n",
    "        match = {\n",
    "            \"$match\": {\n",
    "                \"section_name\": \"Health\",\n",
    "                \"pub_date\": {\"$gt\": \"2020-0{}-01T00:00:00+0000\".format(i), \"$lt\": \"2020-0{}-31T23:59:59+0000\".format(i)}\n",
    "            }\n",
    "        }\n",
    "\n",
    "        group = {\n",
    "            \"$group\": {\n",
    "                \"_id\": \"$section_name\",\n",
    "                \"average_print_page\": {\"$avg\": { \"$convert\": { \"input\": \"$print_page\", \"to\": \"int\" } }}\n",
    "            }\n",
    "        }\n",
    "\n",
    "    else:\n",
    "        project = {\n",
    "            \"$project\": {\n",
    "                \"section_name\": 1,\n",
    "                \"print_page\": 1,\n",
    "                \"pub_date\": 1\n",
    "            }\n",
    "        }\n",
    "\n",
    "        match = {\n",
    "            \"$match\": {\n",
    "                \"section_name\": \"Health\",\n",
    "                \"pub_date\": {\"$gt\": \"2020-{}-01T00:00:00+0000\".format(i), \"$lt\": \"2020-{}-31T23:59:59+0000\".format(i)}\n",
    "            }\n",
    "        }\n",
    "\n",
    "        group = {\n",
    "            \"$group\": {\n",
    "                \"_id\": \"$section_name\",\n",
    "                \"average_print_page\": {\"$avg\": { \"$convert\": { \"input\": \"$print_page\", \"to\": \"int\" } }}\n",
    "            }\n",
    "        }\n",
    "    \n",
    "    pipeline = [match, project, group]\n",
    "\n",
    "    c = archive.aggregate(pipeline)\n",
    "        \n",
    "    df_print_page = pd.DataFrame(c)\n",
    "\n",
    "    list_print_page.append(int(df_print_page['average_print_page']))\n",
    "\n"
   ]
  },
  {
   "cell_type": "code",
   "execution_count": 23,
   "id": "6ebfc85e",
   "metadata": {},
   "outputs": [
    {
     "data": {
      "image/png": "[encoded data removed]",
      "text/plain": [
       "<Figure size 432x288 with 1 Axes>"
      ]
     },
     "metadata": {
      "needs_background": "light"
     },
     "output_type": "display_data"
    }
   ],
   "source": [
    "plt.plot(range(len(list_print_page)), list_print_page, '.')\n",
    "plt.ylim(0,10)\n",
    "plt.ylabel(\"Printpage in the Newspaper\")\n",
    "plt.xlabel(\"Months\")\n",
    "plt.xticks(range(len(list_print_page)), list(range(1,13)))\n",
    "plt.title(\"Print Page of Section 'Health' during 2020\")\n",
    "plt.show()"
   ]
  },
  {
   "cell_type": "markdown",
   "id": "8c0c3956",
   "metadata": {},
   "source": [
    "Within this plot, a clear tendency towards page one can be discerned. Thus, it can be said that the importance of the 'Health' section has increased in 2020, the year of the pandemic."
   ]
  },
  {
   "cell_type": "markdown",
   "id": "55545820",
   "metadata": {},
   "source": [
    "## Conclusion"
   ]
  },
  {
   "cell_type": "markdown",
   "id": "343904e0",
   "metadata": {},
   "source": [
    "In the following chapter, the questions posed at the beginning will be answered on the basis of the analysis made. For the sake of readability, the questions are listed again below and answered one after the other:\n",
    "\n",
    "* Did the pandemic have an impact on the number of articles written in the New York Times?\n",
    "\n",
    "Based on the analyses carried out, it can be said that only the outbreak of the pandemic led to an increased number of articles. However, the increase in articles written was short-lived and there was no lasting impact from the pandemic.\n",
    "\n",
    "* Who are the New York Times top writers? and into which sections are they active?\n",
    "\n",
    "In retrospect, the question about the top writers was probably formulated a little too openly and could only be assessed in terms of quantity due to the data available. From this point of view, the top five authors could be clearly identified. At first glance, however, it was somewhat surprising to find that none of these authors had written an article in the focused section 'Health'. On closer inspection, this is probably due to the fact that the quantitatively strong authors are in sections such as 'Crosswords & Games', 'Food' and 'At Home'. These are probably sections that have their fixed places in every issue of the New York Times. Thus, this question cannot be answered precisely on the basis of this data and would probably have to be specified or modified afterwards.\n",
    "\n",
    "* To what extent did the COVID-19 pandemic dominate the news coverage?\n",
    "\n",
    "Looking through the wordclouds created, it was somewhat surprising to find that the news was dominated more by President Trump than by the Corona pandemic. Here, too, it can be said that the months of March / April were dominated by the pandemic and that this was somewhat relativised later.\n",
    "\n",
    "* How have the articles in the 'Health' section changed as a result of the COVID-19 pandemic?\n",
    "\n",
    "The last question can be answered as follows based on the data analysis. Although there is a pandemic, the length of the articles in the 'Health' section has not changed in the long term. However, based on the analysed placement (print_page), which shows a clear tendency towards the front pages, it can be concluded that the importance of the 'Health' section within the New York Times has increased."
   ]
  },
  {
   "cell_type": "markdown",
   "id": "f1ae2862",
   "metadata": {},
   "source": [
    "## Remarks"
   ]
  },
  {
   "cell_type": "markdown",
   "id": "96cb0ed9",
   "metadata": {},
   "source": [
    "Finally, a conclusion should be drawn for the module \"Big Data Lab I\". The combination of the 'Data Camp Course' and your own project provides a good insight into the technology of MongoDB. The examples provided in abundance make it possible to get to know and see many possible applications.\n",
    "\n",
    "For me personally, the greatest difficulty was finding a suitable data set and building a suitable use case for it. "
   ]
  },
  {
   "cell_type": "code",
   "execution_count": 24,
   "id": "a3d6256a",
   "metadata": {},
   "outputs": [
    {
     "data": {
      "text/html": [
       "<style>\n",
       "/* display:none  -> hide In/Out column */\n",
       "/* display:block -> show In/Out column */\n",
       "div.prompt {display:none}\n",
       "\n",
       "/* removes inserted URL after links when printing */\n",
       "@media print {\n",
       "    a[href]:after { content: none; }         \n",
       "}\n",
       "</style>\n"
      ],
      "text/plain": [
       "<IPython.core.display.HTML object>"
      ]
     },
     "metadata": {},
     "output_type": "display_data"
    }
   ],
   "source": [
    "%%HTML\n",
    "<style>\n",
    "/* display:none  -> hide In/Out column */\n",
    "/* display:block -> show In/Out column */\n",
    "div.prompt {display:none}\n",
    "\n",
    "/* removes inserted URL after links when printing */\n",
    "@media print {\n",
    "    a[href]:after { content: none; }         \n",
    "}\n",
    "</style>"
   ]
  }
 ],
 "metadata": {
  "kernelspec": {
   "display_name": "bigdatalab1",
   "language": "python",
   "name": "bigdatalab1"
  },
  "language_info": {
   "codemirror_mode": {
    "name": "ipython",
    "version": 3
   },
   "file_extension": ".py",
   "mimetype": "text/x-python",
   "name": "python",
   "nbconvert_exporter": "python",
   "pygments_lexer": "ipython3",
   "version": "3.8.8"
  },
  "toc": {
   "base_numbering": 1,
   "nav_menu": {},
   "number_sections": true,
   "sideBar": true,
   "skip_h1_title": false,
   "title_cell": "Table of Contents",
   "title_sidebar": "Contents",
   "toc_cell": false,
   "toc_position": {
    "height": "calc(100% - 180px)",
    "left": "10px",
    "top": "150px",
    "width": "256px"
   },
   "toc_section_display": true,
   "toc_window_display": false
  }
 },
 "nbformat": 4,
 "nbformat_minor": 5
}
